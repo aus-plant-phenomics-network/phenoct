{
 "cells": [
  {
   "cell_type": "code",
   "execution_count": 1,
   "metadata": {
    "collapsed": false,
    "jupyter": {
     "outputs_hidden": false
    }
   },
   "outputs": [],
   "source": [
    "import os\n",
    "import sys\n",
    "\n",
    "module_path = os.path.abspath(\"/Users/a1132077/development/\")\n",
    "if module_path not in sys.path:\n",
    "    sys.path.append(module_path)\n",
    "from phenoct.src import phenoct as pct\n",
    "\n",
    "a = pct.CT(\n",
    "    \"///Volumes/phenoxray/Result/Ears/xray/0674-Tucker/SH0041/XRAYCT_V_SH0041_221212144355987_ears_1_200mm_084mu_0674-Tucker_221212182054853/XRAYCT_V_X-005246-03_221212144355987_ears_1_200mm_084mu_0674-Tucker-SH0041_221215215629878.rek\")\n"
   ]
  },
  {
   "cell_type": "code",
   "execution_count": 2,
   "metadata": {
    "collapsed": false,
    "jupyter": {
     "outputs_hidden": false
    }
   },
   "outputs": [
    {
     "ename": "AttributeError",
     "evalue": "'CT' object has no attribute 'segment_sample_holder'",
     "output_type": "error",
     "traceback": [
      "\u001B[0;31m---------------------------------------------------------------------------\u001B[0m",
      "\u001B[0;31mAttributeError\u001B[0m                            Traceback (most recent call last)",
      "Cell \u001B[0;32mIn [2], line 1\u001B[0m\n\u001B[0;32m----> 1\u001B[0m \u001B[43ma\u001B[49m\u001B[38;5;241;43m.\u001B[39;49m\u001B[43msegment_sample_holder\u001B[49m(attenuation_threshold\u001B[38;5;241m=\u001B[39m\u001B[38;5;241m2000\u001B[39m, start_slice\u001B[38;5;241m=\u001B[39m\u001B[38;5;241m200\u001B[39m, stop_slice\u001B[38;5;241m=\u001B[39m\u001B[38;5;241m2640\u001B[39m, debug\u001B[38;5;241m=\u001B[39m\u001B[38;5;28;01mFalse\u001B[39;00m, pcv_debug\u001B[38;5;241m=\u001B[39m\u001B[38;5;28;01mFalse\u001B[39;00m)\n",
      "\u001B[0;31mAttributeError\u001B[0m: 'CT' object has no attribute 'segment_sample_holder'"
     ]
    }
   ],
   "source": [
    "a.segment_sample_holder(attenuation_threshold=2000, start_slice=200, stop_slice=2640, debug=False, pcv_debug=False)\n",
    "\n",
    "#a.write_tiff('a.tiff')"
   ]
  },
  {
   "cell_type": "code",
   "execution_count": null,
   "metadata": {
    "collapsed": false,
    "jupyter": {
     "outputs_hidden": false
    }
   },
   "outputs": [],
   "source": [
    "#a.crop_segmented()\n",
    "#a.create_animation('a.mp4')"
   ]
  },
  {
   "cell_type": "code",
   "execution_count": null,
   "metadata": {
    "collapsed": false,
    "jupyter": {
     "outputs_hidden": false
    },
    "tags": []
   },
   "outputs": [],
   "source": [
    "# higher attenuation threshold and fewer slices for testing. This is slow.\n",
    "#a.segment_sample_holder(start_slice=1400, stop_slice=1600, debug=False, pcv_debug=False)\n",
    "a.crop_segmented()\n",
    "#a.watershed_seeds()\n",
    "\n",
    "#a.write_colourised_tiff('a_cc.tiff')"
   ]
  },
  {
   "cell_type": "code",
   "execution_count": null,
   "metadata": {
    "tags": []
   },
   "outputs": [],
   "source": [
    "import napari\n",
    "viewer = napari.view_image(a.data)\n",
    "labels_layer = viewer.add_labels(a.labels, name='segmentation')"
   ]
  },
  {
   "cell_type": "code",
   "execution_count": null,
   "metadata": {
    "tags": []
   },
   "outputs": [],
   "source": [
    "a.create_animation(\"/Users/a1132077/Downloads/mia_test.mp4\")"
   ]
  },
  {
   "cell_type": "code",
   "execution_count": null,
   "metadata": {
    "tags": []
   },
   "outputs": [],
   "source": []
  }
 ],
 "metadata": {
  "kernelspec": {
   "display_name": "Python 3 (ipykernel)",
   "language": "python",
   "name": "python3"
  },
  "language_info": {
   "codemirror_mode": {
    "name": "ipython",
    "version": 3
   },
   "file_extension": ".py",
   "mimetype": "text/x-python",
   "name": "python",
   "nbconvert_exporter": "python",
   "pygments_lexer": "ipython3",
   "version": "3.10.6"
  }
 },
 "nbformat": 4,
 "nbformat_minor": 4
}
