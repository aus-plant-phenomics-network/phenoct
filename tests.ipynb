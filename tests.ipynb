{
 "cells": [
  {
   "cell_type": "code",
   "execution_count": 1,
   "metadata": {},
   "outputs": [
    {
     "name": "stderr",
     "output_type": "stream",
     "text": [
      "100%|██████████████████████████████████████████████████████████████████████████████████████████████████████████████████████████████████████████████████████████████████████████████████████████████████████████████████████████████████████████████████████████████████████████| 868M/868M [02:18<00:00, 6.29MiB/s]"
     ]
    },
    {
     "name": "stdout",
     "output_type": "stream",
     "text": [
      "File downloaded successfully: test_outputs/example_tube.rek\n",
      "uint16\n"
     ]
    },
    {
     "name": "stderr",
     "output_type": "stream",
     "text": [
      "\n"
     ]
    }
   ],
   "source": [
    "import requests\n",
    "import phenoct\n",
    "import os\n",
    "from tqdm import tqdm\n",
    "\n",
    "try:\n",
    "    url = \"https://projects.pawsey.org.au/appf-quick-data-sharing/XRAYCT_V_X-004481-01_220526112956002_ears_1_200mm_084mu_0645-UniSA-SH0017_220601091114171.rek\"\n",
    "    filename = \"test_outputs/example_tube.rek\"\n",
    "    os.mkdir(\"test_outputs\")\n",
    "    response = requests.get(url, stream=True)\n",
    "    response.raise_for_status()\n",
    "\n",
    "    total_size = int(response.headers.get(\"content-length\", 0))\n",
    "\n",
    "    with open(filename, \"wb\") as file:\n",
    "        # Create a progress bar\n",
    "        progress_bar = tqdm(total=total_size, unit=\"iB\", unit_scale=True)\n",
    "\n",
    "        for chunk in response.iter_content(chunk_size=1024):\n",
    "            file.write(chunk)\n",
    "            progress_bar.update(len(chunk))\n",
    "\n",
    "        progress_bar.close()\n",
    "\n",
    "    print(f\"File downloaded successfully: {filename}\")\n",
    "except Exception as e:\n",
    "    print(f\"An error occurred: {e}\")\n",
    "\n",
    "tube = phenoct.Tube(\"test_outputs/example_tube.rek\")"
   ]
  },
  {
   "cell_type": "code",
   "execution_count": 2,
   "metadata": {},
   "outputs": [
    {
     "name": "stdout",
     "output_type": "stream",
     "text": [
      "uint16\n",
      "Min value: 0\n",
      "Max value: 19690\n",
      "uint32\n",
      "Min value: 0\n",
      "Max value: 1290403840\n"
     ]
    }
   ],
   "source": [
    "tube.write_data_tiff(\"test_outputs/32.tiff\", 32)\n",
    "# tube.write_data_tiff(\"16.tiff\")"
   ]
  },
  {
   "cell_type": "code",
   "execution_count": 3,
   "metadata": {},
   "outputs": [
    {
     "name": "stderr",
     "output_type": "stream",
     "text": [
      "Segmenting slice: 2499: 100%|█████████████████████████████████████████████████████████████████████████████████████████████████████████████████████████████████████████████████████████████████████████████████████████████████████████████████████████████████████████████████| 2200/2200 [00:21<00:00, 104.54it/s]\n"
     ]
    },
    {
     "name": "stdout",
     "output_type": "stream",
     "text": [
      "uint16\n",
      "Min value: 0\n",
      "Max value: 17507\n",
      "uint16\n",
      "Min value: 0\n",
      "Max value: 17507\n",
      "uint16\n",
      "Min value: 0\n",
      "Max value: 17507\n",
      "uint32\n",
      "Min value: 0\n",
      "Max value: 1147338752\n"
     ]
    }
   ],
   "source": [
    "tube.segment_sample_holder(start_slice=300, stop_slice=2500, debug=False)\n",
    "# tube.crop_segmented()\n",
    "tube.write_segmented_data_tiff(\"test_outputs/seg16.tiff\")\n",
    "tube.write_segmented_data_tiff(\"test_outputs/seg32.tiff\", 32)"
   ]
  },
  {
   "cell_type": "code",
   "execution_count": 4,
   "metadata": {},
   "outputs": [
    {
     "name": "stdout",
     "output_type": "stream",
     "text": [
      "Data shape: (390, 403)\n",
      "Data type: uint16\n",
      "Min value: 0\n",
      "Max value: 0\n"
     ]
    }
   ],
   "source": [
    "import numpy as np\n",
    "from PIL import Image\n",
    "\n",
    "# Load the image using PIL\n",
    "img = Image.open(\"test_outputs/seg16.tiff\")\n",
    "\n",
    "# Convert the PIL image to a numpy array\n",
    "img_arr = np.array(img)\n",
    "\n",
    "# Print the data type and min/max values\n",
    "print(f\"Data shape: {img_arr.shape}\")\n",
    "print(f\"Data type: {img_arr.dtype}\")\n",
    "print(f\"Min value: {np.min(img_arr)}\")\n",
    "print(f\"Max value: {np.max(img_arr)}\")"
   ]
  },
  {
   "cell_type": "code",
   "execution_count": 5,
   "metadata": {},
   "outputs": [],
   "source": [
    "# a.crop_segmented()"
   ]
  },
  {
   "cell_type": "code",
   "execution_count": null,
   "metadata": {},
   "outputs": [
    {
     "name": "stderr",
     "output_type": "stream",
     "text": [
      "Segmenting slice: 1599: 100%|█████████████████████████████████████████████████████████████████████████████████████████████████████████████████████████████████████████████████████████████████████████████████████████████████████████████████████████████████████████████████████| 50/50 [00:00<00:00, 105.29it/s]\n"
     ]
    },
    {
     "name": "stdout",
     "output_type": "stream",
     "text": [
      "(array([1550, 1550, 1550, ..., 1599, 1599, 1599]), array([100, 100, 100, ..., 191, 191, 191]), array([171, 172, 173, ..., 197, 198, 199]))\n"
     ]
    }
   ],
   "source": [
    "# higher attenuation threshold and fewer slices for testing. This is slow.\n",
    "tube.segment_sample_holder(start_slice=1550, stop_slice=1600, debug=False)\n",
    "\n",
    "tube.watershed_seeds()\n",
    "\n",
    "# Uncomment this to open in Napari Viewer.\n",
    "# tube.view_segmented_data()\n",
    "\n",
    "tube.write_colourised_tiff(\"test_outputs/a_cc.tiff\")"
   ]
  },
  {
   "cell_type": "code",
   "execution_count": null,
   "metadata": {},
   "outputs": [],
   "source": [
    "tube.create_animation(\"test_outputs/tube.mp4\")"
   ]
  }
 ],
 "metadata": {
  "kernelspec": {
   "display_name": "Python 3 (ipykernel)",
   "language": "python",
   "name": "python3"
  },
  "language_info": {
   "codemirror_mode": {
    "name": "ipython",
    "version": 3
   },
   "file_extension": ".py",
   "mimetype": "text/x-python",
   "name": "python",
   "nbconvert_exporter": "python",
   "pygments_lexer": "ipython3",
   "version": "3.12.3"
  }
 },
 "nbformat": 4,
 "nbformat_minor": 4
}
