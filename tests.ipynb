{
 "cells": [
  {
   "cell_type": "code",
   "execution_count": 1,
   "metadata": {
    "collapsed": false,
    "jupyter": {
     "outputs_hidden": false
    },
    "ExecuteTime": {
     "end_time": "2023-05-30T05:13:06.075412Z",
     "start_time": "2023-05-30T05:13:01.132333Z"
    }
   },
   "outputs": [
    {
     "name": "stdout",
     "output_type": "stream",
     "text": [
      "uint16\n"
     ]
    }
   ],
   "source": [
    "import os\n",
    "import sys\n",
    "\n",
    "module_path = os.path.abspath(\"/Users/a1132077/development/\")\n",
    "if module_path not in sys.path:\n",
    "    sys.path.append(module_path)\n",
    "from phenoct.src import phenoct as pct\n",
    "\n",
    "tube = pct.Tube(\n",
    "    \"///Volumes/phenoxray/Result/Ears/xray/0674-Tucker/SH0041/XRAYCT_V_SH0041_221212144355987_ears_1_200mm_084mu_0674-Tucker_221212182054853/XRAYCT_V_X-005246-03_221212144355987_ears_1_200mm_084mu_0674-Tucker-SH0041_221215215629878.rek\")\n",
    "\n",
    "\n"
   ]
  },
  {
   "cell_type": "code",
   "execution_count": 5,
   "outputs": [
    {
     "name": "stdout",
     "output_type": "stream",
     "text": [
      "uint16\n",
      "Min value: 0\n",
      "Max value: 19958\n",
      "uint32\n",
      "Min value: 0\n",
      "Max value: 1307967488\n"
     ]
    }
   ],
   "source": [
    "tube.write_data_tiff(\"32.tiff\", 32)\n",
    "#tube.write_data_tiff(\"16.tiff\")\n",
    "\n"
   ],
   "metadata": {
    "collapsed": false,
    "ExecuteTime": {
     "end_time": "2023-05-30T05:31:51.353261Z",
     "start_time": "2023-05-30T05:31:07.795761Z"
    }
   }
  },
  {
   "cell_type": "code",
   "execution_count": 4,
   "outputs": [
    {
     "name": "stderr",
     "output_type": "stream",
     "text": [
      "Segmenting slice: 2499: 100%|██████████| 2200/2200 [00:23<00:00, 94.78it/s] \n"
     ]
    },
    {
     "name": "stdout",
     "output_type": "stream",
     "text": [
      "uint16\n",
      "Min value: 0\n",
      "Max value: 16996\n",
      "uint16\n",
      "Min value: 0\n",
      "Max value: 16996\n",
      "uint16\n",
      "Min value: 0\n",
      "Max value: 16996\n",
      "uint32\n",
      "Min value: 0\n",
      "Max value: 1113849856\n"
     ]
    }
   ],
   "source": [
    "tube.segment_sample_holder(start_slice=300, stop_slice=2500, debug=False)\n",
    "#tube.crop_segmented()\n",
    "tube.write_segmented_data_tiff(\"seg16.tiff\")\n",
    "tube.write_segmented_data_tiff(\"seg32.tiff\", 32)\n"
   ],
   "metadata": {
    "collapsed": false,
    "ExecuteTime": {
     "end_time": "2023-05-30T05:16:58.697250Z",
     "start_time": "2023-05-30T05:16:22.285072Z"
    }
   }
  },
  {
   "cell_type": "code",
   "execution_count": 4,
   "outputs": [
    {
     "name": "stdout",
     "output_type": "stream",
     "text": [
      "Data shape: (438, 392)\n",
      "Data type: uint8\n",
      "Min value: 0\n",
      "Max value: 8\n"
     ]
    }
   ],
   "source": [
    "import numpy as np\n",
    "from PIL import Image\n",
    "\n",
    "# Load the image using PIL\n",
    "img = Image.open('out.tiff')\n",
    "\n",
    "# Convert the PIL image to a numpy array\n",
    "img_arr = np.array(img)\n",
    "\n",
    "# Print the data type and min/max values\n",
    "print(f'Data shape: {img_arr.shape}')\n",
    "print(f'Data type: {img_arr.dtype}')\n",
    "print(f'Min value: {np.min(img_arr)}')\n",
    "print(f'Max value: {np.max(img_arr)}')\n"
   ],
   "metadata": {
    "collapsed": false,
    "ExecuteTime": {
     "end_time": "2023-05-05T05:12:01.504451Z",
     "start_time": "2023-05-05T05:12:01.493867Z"
    }
   }
  },
  {
   "cell_type": "code",
   "execution_count": null,
   "metadata": {},
   "outputs": [],
   "source": [
    "# tube.segment_sample_holder(start_slice=1550, stop_slice=1600, debug=False, attenuation_threshold = 5000)\n",
    "#\n",
    "#\n",
    "# tube.segment_sample_holder(start_slice=1550, stop_slice=1600, debug=False, attenuation_threshold = [])\n",
    "\n",
    "\n",
    "tube.segment_sample_holder(start_slice=1550, stop_slice=1600, debug=False)\n"
   ]
  },
  {
   "cell_type": "code",
   "execution_count": null,
   "metadata": {
    "collapsed": false,
    "jupyter": {
     "outputs_hidden": false
    }
   },
   "outputs": [],
   "source": [
    "#a.crop_segmented()"
   ]
  },
  {
   "cell_type": "code",
   "execution_count": null,
   "metadata": {
    "collapsed": false,
    "jupyter": {
     "outputs_hidden": false
    },
    "tags": []
   },
   "outputs": [],
   "source": [
    "# higher attenuation threshold and fewer slices for testing. This is slow.\n",
    "tube.segment_sample_holder(start_slice=1550, stop_slice=1600, debug=False)\n",
    "\n",
    "tube.watershed_seeds()\n",
    "\n",
    "tube.view_segmented_data()\n",
    "\n",
    "\n",
    "#tube.write_colourised_tiff('a_cc.tiff')"
   ]
  },
  {
   "cell_type": "code",
   "execution_count": null,
   "outputs": [],
   "source": [
    "tube.create_animation('tube.mp4')\n"
   ],
   "metadata": {
    "collapsed": false
   }
  },
  {
   "cell_type": "code",
   "execution_count": null,
   "metadata": {
    "tags": []
   },
   "outputs": [],
   "source": [
    "#tube.create_animation(\"/Users/a1132077/Downloads/mia_test.mp4\")"
   ]
  }
 ],
 "metadata": {
  "kernelspec": {
   "display_name": "Python 3 (ipykernel)",
   "language": "python",
   "name": "python3"
  },
  "language_info": {
   "codemirror_mode": {
    "name": "ipython",
    "version": 3
   },
   "file_extension": ".py",
   "mimetype": "text/x-python",
   "name": "python",
   "nbconvert_exporter": "python",
   "pygments_lexer": "ipython3",
   "version": "3.10.6"
  }
 },
 "nbformat": 4,
 "nbformat_minor": 4
}
