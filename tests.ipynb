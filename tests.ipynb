{
 "cells": [
  {
   "cell_type": "code",
   "execution_count": 1,
   "metadata": {
    "collapsed": false,
    "jupyter": {
     "outputs_hidden": false
    }
   },
   "outputs": [],
   "source": [
    "import os\n",
    "import sys\n",
    "\n",
    "module_path = os.path.abspath(\"/Users/a1132077/development/\")\n",
    "if module_path not in sys.path:\n",
    "    sys.path.append(module_path)\n",
    "from phenoct.src import phenoct as pct\n",
    "\n",
    "tube = pct.Tube(\n",
    "    \"///Volumes/phenoxray/Result/Ears/xray/0674-Tucker/SH0041/XRAYCT_V_SH0041_221212144355987_ears_1_200mm_084mu_0674-Tucker_221212182054853/XRAYCT_V_X-005246-03_221212144355987_ears_1_200mm_084mu_0674-Tucker-SH0041_221215215629878.rek\")\n"
   ]
  },
  {
   "cell_type": "code",
   "execution_count": 2,
   "metadata": {
    "collapsed": false,
    "jupyter": {
     "outputs_hidden": false
    }
   },
   "outputs": [],
   "source": [
    "#a.crop_segmented()"
   ]
  },
  {
   "cell_type": "code",
   "execution_count": 3,
   "metadata": {
    "collapsed": false,
    "jupyter": {
     "outputs_hidden": false
    },
    "tags": []
   },
   "outputs": [
    {
     "name": "stderr",
     "output_type": "stream",
     "text": [
      "Segmenting slice: 1599: 100%|██████████████████████████████████████████████████████████████████████████████████████████████████████████████████████████████████████████████████████████████████████████████████████| 50/50 [00:00<00:00, 90.00it/s]\n"
     ]
    }
   ],
   "source": [
    "# higher attenuation threshold and fewer slices for testing. This is slow.\n",
    "tube.segment_sample_holder(start_slice=1550, stop_slice=1600, debug=False, pcv_debug=False)\n",
    "\n",
    "tube.watershed_seeds()\n",
    "\n",
    "tube.view_segmented_data()\n",
    "\n",
    "#tube.create_animation('tube.mp4')\n",
    "\n",
    "#tube.write_colourised_tiff('a_cc.tiff')"
   ]
  },
  {
   "cell_type": "code",
   "execution_count": 4,
   "metadata": {
    "tags": []
   },
   "outputs": [],
   "source": [
    "#tube.create_animation(\"/Users/a1132077/Downloads/mia_test.mp4\")"
   ]
  }
 ],
 "metadata": {
  "kernelspec": {
   "display_name": "Python 3 (ipykernel)",
   "language": "python",
   "name": "python3"
  },
  "language_info": {
   "codemirror_mode": {
    "name": "ipython",
    "version": 3
   },
   "file_extension": ".py",
   "mimetype": "text/x-python",
   "name": "python",
   "nbconvert_exporter": "python",
   "pygments_lexer": "ipython3",
   "version": "3.10.6"
  }
 },
 "nbformat": 4,
 "nbformat_minor": 4
}
