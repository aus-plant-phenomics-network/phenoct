{
 "cells": [
  {
   "metadata": {},
   "cell_type": "code",
   "outputs": [],
   "execution_count": null,
   "source": [
    "import requests\n",
    "import phenoct\n",
    "import os\n",
    "from tqdm import tqdm\n",
    "\n",
    "try:\n",
    "    url = \"https://projects.pawsey.org.au/appf-quick-data-sharing/XRAYCT_V_X-004481-01_220526112956002_ears_1_200mm_084mu_0645-UniSA-SH0017_220601091114171.rek\"\n",
    "    out_dir = \"test_outputs\"\n",
    "    filename = f\"{out_dir}/example_tube.rek\"\n",
    "    if not os.path.isdir(out_dir):\n",
    "        os.mkdir(out_dir)\n",
    "    if not os.path.exists(filename):\n",
    "        response = requests.get(url, stream=True)\n",
    "        response.raise_for_status()\n",
    "\n",
    "        total_size = int(response.headers.get(\"content-length\", 0))\n",
    "\n",
    "        with open(filename, \"wb\") as file:\n",
    "            # Create a progress bar\n",
    "            progress_bar = tqdm(total=total_size, unit=\"iB\", unit_scale=True)\n",
    "\n",
    "            for chunk in response.iter_content(chunk_size=1024):\n",
    "                file.write(chunk)\n",
    "                progress_bar.update(len(chunk))\n",
    "\n",
    "            progress_bar.close()\n",
    "\n",
    "        print(f\"File downloaded successfully: {filename}\")\n",
    "    else:\n",
    "        print(\"File already exists\")\n",
    "except Exception as e:\n",
    "    print(f\"An error occurred: {e}\")\n",
    "\n",
    "tube = phenoct.Tube(\"test_outputs/example_tube.rek\")"
   ]
  },
  {
   "metadata": {},
   "cell_type": "code",
   "outputs": [],
   "execution_count": null,
   "source": [
    "tube.write_data_tiff(\"test_outputs/32.tiff\", 32)\n",
    "# tube.write_data_tiff(\"16.tiff\")"
   ]
  },
  {
   "metadata": {},
   "cell_type": "code",
   "outputs": [],
   "execution_count": null,
   "source": [
    "tube.segment_sample_holder(start_slice=300, stop_slice=2500, debug=False)\n",
    "# tube.crop_segmented()\n",
    "tube.write_segmented_data_tiff(\"test_outputs/seg16.tiff\")\n",
    "tube.write_segmented_data_tiff(\"test_outputs/seg32.tiff\", 32)"
   ]
  },
  {
   "metadata": {},
   "cell_type": "code",
   "outputs": [],
   "execution_count": null,
   "source": [
    "import numpy as np\n",
    "from PIL import Image\n",
    "\n",
    "# Load the image using PIL\n",
    "img = Image.open(\"test_outputs/seg16.tiff\")\n",
    "\n",
    "# Convert the PIL image to a numpy array\n",
    "img_arr = np.array(img)\n",
    "\n",
    "# Print the data type and min/max values\n",
    "print(f\"Data shape: {img_arr.shape}\")\n",
    "print(f\"Data type: {img_arr.dtype}\")\n",
    "print(f\"Min value: {np.min(img_arr)}\")\n",
    "print(f\"Max value: {np.max(img_arr)}\")"
   ]
  },
  {
   "metadata": {},
   "cell_type": "code",
   "outputs": [],
   "execution_count": null,
   "source": "# a.crop_segmented()"
  },
  {
   "metadata": {},
   "cell_type": "code",
   "outputs": [],
   "execution_count": null,
   "source": [
    "# higher attenuation threshold and fewer slices for testing. This is slow.\n",
    "tube.segment_sample_holder(start_slice=1550, stop_slice=1600, debug=False)\n",
    "\n",
    "tube.watershed_seeds()\n",
    "\n",
    "# Uncomment this to open in Napari Viewer.\n",
    "# tube.view_segmented_data()\n",
    "\n",
    "tube.write_colourised_tiff(\"test_outputs/a_cc.tiff\")"
   ]
  },
  {
   "metadata": {},
   "cell_type": "code",
   "outputs": [],
   "execution_count": null,
   "source": "tube.create_animation(\"test_outputs/tube.mp4\")"
  }
 ],
 "metadata": {
  "kernelspec": {
   "display_name": "Python 3 (ipykernel)",
   "language": "python",
   "name": "python3"
  },
  "language_info": {
   "codemirror_mode": {
    "name": "ipython",
    "version": 3
   },
   "file_extension": ".py",
   "mimetype": "text/x-python",
   "name": "python",
   "nbconvert_exporter": "python",
   "pygments_lexer": "ipython3",
   "version": "3.12.3"
  }
 },
 "nbformat": 4,
 "nbformat_minor": 4
}
